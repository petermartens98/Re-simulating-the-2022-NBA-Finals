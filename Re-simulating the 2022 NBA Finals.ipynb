{
 "cells": [
  {
   "cell_type": "markdown",
   "id": "7a609646",
   "metadata": {},
   "source": [
    "## Re-simulating the 2022 NBA Finals"
   ]
  },
  {
   "cell_type": "markdown",
   "id": "c5a73df1",
   "metadata": {},
   "source": [
    "### Insert nessesary modules"
   ]
  },
  {
   "cell_type": "code",
   "execution_count": 232,
   "id": "85d163e3",
   "metadata": {},
   "outputs": [],
   "source": [
    "import pandas as pd \n",
    "import random as rnd\n",
    "import numpy as np \n",
    "import matplotlib.pyplot as plt\n",
    "\n",
    "from urllib.request import urlopen\n",
    "from bs4 import BeautifulSoup\n",
    "\n",
    "import nba_api\n",
    "from nba_api.stats.static import players\n",
    "from nba_api.stats.static import teams\n",
    "from nba_api.stats.endpoints import playergamelog\n",
    "from nba_api.stats.library.parameters import SeasonAll\n",
    "from nba_api.stats.endpoints import leaguegamefinder\n",
    "\n",
    "pd.set_option(\"display.max_columns\", 50)"
   ]
  },
  {
   "cell_type": "markdown",
   "id": "2d56fc24",
   "metadata": {},
   "source": [
    "### Create a teams dictionary"
   ]
  },
  {
   "cell_type": "code",
   "execution_count": 233,
   "id": "74398e44",
   "metadata": {},
   "outputs": [],
   "source": [
    "team_dict = teams.get_teams()"
   ]
  },
  {
   "cell_type": "code",
   "execution_count": 234,
   "id": "38c8ee83",
   "metadata": {},
   "outputs": [
    {
     "data": {
      "text/plain": [
       "[{'id': 1610612738,\n",
       "  'full_name': 'Boston Celtics',\n",
       "  'abbreviation': 'BOS',\n",
       "  'nickname': 'Celtics',\n",
       "  'city': 'Boston',\n",
       "  'state': 'Massachusetts',\n",
       "  'year_founded': 1946}]"
      ]
     },
     "execution_count": 234,
     "metadata": {},
     "output_type": "execute_result"
    }
   ],
   "source": [
    "Celtics = [team for team in team_dict if team['full_name'] == 'Boston Celtics']\n",
    "Celtics"
   ]
  },
  {
   "cell_type": "code",
   "execution_count": 235,
   "id": "13d5a5e1",
   "metadata": {},
   "outputs": [
    {
     "data": {
      "text/plain": [
       "[{'id': 1610612744,\n",
       "  'full_name': 'Golden State Warriors',\n",
       "  'abbreviation': 'GSW',\n",
       "  'nickname': 'Warriors',\n",
       "  'city': 'Golden State',\n",
       "  'state': 'California',\n",
       "  'year_founded': 1946}]"
      ]
     },
     "execution_count": 235,
     "metadata": {},
     "output_type": "execute_result"
    }
   ],
   "source": [
    "Warriors = [team for team in team_dict if team['full_name'] == 'Golden State Warriors']\n",
    "Warriors"
   ]
  },
  {
   "cell_type": "markdown",
   "id": "aa6109d5",
   "metadata": {},
   "source": [
    "### Load in Celtics games and results from nba_api"
   ]
  },
  {
   "cell_type": "code",
   "execution_count": 236,
   "id": "3f9ad768",
   "metadata": {},
   "outputs": [
    {
     "data": {
      "text/html": [
       "<div>\n",
       "<style scoped>\n",
       "    .dataframe tbody tr th:only-of-type {\n",
       "        vertical-align: middle;\n",
       "    }\n",
       "\n",
       "    .dataframe tbody tr th {\n",
       "        vertical-align: top;\n",
       "    }\n",
       "\n",
       "    .dataframe thead th {\n",
       "        text-align: right;\n",
       "    }\n",
       "</style>\n",
       "<table border=\"1\" class=\"dataframe\">\n",
       "  <thead>\n",
       "    <tr style=\"text-align: right;\">\n",
       "      <th></th>\n",
       "      <th>SEASON_ID</th>\n",
       "      <th>TEAM_ID</th>\n",
       "      <th>TEAM_ABBREVIATION</th>\n",
       "      <th>TEAM_NAME</th>\n",
       "      <th>GAME_ID</th>\n",
       "      <th>GAME_DATE</th>\n",
       "      <th>MATCHUP</th>\n",
       "      <th>WL</th>\n",
       "      <th>MIN</th>\n",
       "      <th>PTS</th>\n",
       "      <th>FGM</th>\n",
       "      <th>FGA</th>\n",
       "      <th>FG_PCT</th>\n",
       "      <th>FG3M</th>\n",
       "      <th>FG3A</th>\n",
       "      <th>FG3_PCT</th>\n",
       "      <th>FTM</th>\n",
       "      <th>FTA</th>\n",
       "      <th>FT_PCT</th>\n",
       "      <th>OREB</th>\n",
       "      <th>DREB</th>\n",
       "      <th>REB</th>\n",
       "      <th>AST</th>\n",
       "      <th>STL</th>\n",
       "      <th>BLK</th>\n",
       "      <th>TOV</th>\n",
       "      <th>PF</th>\n",
       "      <th>PLUS_MINUS</th>\n",
       "      <th>OPP_PTS</th>\n",
       "    </tr>\n",
       "  </thead>\n",
       "  <tbody>\n",
       "    <tr>\n",
       "      <th>0</th>\n",
       "      <td>42021</td>\n",
       "      <td>1610612738</td>\n",
       "      <td>BOS</td>\n",
       "      <td>Boston Celtics</td>\n",
       "      <td>0042100406</td>\n",
       "      <td>2022-06-16</td>\n",
       "      <td>BOS vs. GSW</td>\n",
       "      <td>L</td>\n",
       "      <td>239</td>\n",
       "      <td>90</td>\n",
       "      <td>34</td>\n",
       "      <td>80</td>\n",
       "      <td>0.425</td>\n",
       "      <td>11</td>\n",
       "      <td>28</td>\n",
       "      <td>0.393</td>\n",
       "      <td>11</td>\n",
       "      <td>12</td>\n",
       "      <td>0.917</td>\n",
       "      <td>11</td>\n",
       "      <td>30</td>\n",
       "      <td>41</td>\n",
       "      <td>27</td>\n",
       "      <td>8</td>\n",
       "      <td>8</td>\n",
       "      <td>22</td>\n",
       "      <td>16</td>\n",
       "      <td>-13.0</td>\n",
       "      <td>103.0</td>\n",
       "    </tr>\n",
       "    <tr>\n",
       "      <th>1</th>\n",
       "      <td>42021</td>\n",
       "      <td>1610612738</td>\n",
       "      <td>BOS</td>\n",
       "      <td>Boston Celtics</td>\n",
       "      <td>0042100405</td>\n",
       "      <td>2022-06-13</td>\n",
       "      <td>BOS @ GSW</td>\n",
       "      <td>L</td>\n",
       "      <td>238</td>\n",
       "      <td>94</td>\n",
       "      <td>31</td>\n",
       "      <td>75</td>\n",
       "      <td>0.413</td>\n",
       "      <td>11</td>\n",
       "      <td>32</td>\n",
       "      <td>0.344</td>\n",
       "      <td>21</td>\n",
       "      <td>31</td>\n",
       "      <td>0.677</td>\n",
       "      <td>8</td>\n",
       "      <td>39</td>\n",
       "      <td>47</td>\n",
       "      <td>18</td>\n",
       "      <td>2</td>\n",
       "      <td>2</td>\n",
       "      <td>18</td>\n",
       "      <td>16</td>\n",
       "      <td>-10.0</td>\n",
       "      <td>104.0</td>\n",
       "    </tr>\n",
       "    <tr>\n",
       "      <th>2</th>\n",
       "      <td>42021</td>\n",
       "      <td>1610612738</td>\n",
       "      <td>BOS</td>\n",
       "      <td>Boston Celtics</td>\n",
       "      <td>0042100404</td>\n",
       "      <td>2022-06-10</td>\n",
       "      <td>BOS vs. GSW</td>\n",
       "      <td>L</td>\n",
       "      <td>241</td>\n",
       "      <td>97</td>\n",
       "      <td>34</td>\n",
       "      <td>85</td>\n",
       "      <td>0.400</td>\n",
       "      <td>15</td>\n",
       "      <td>38</td>\n",
       "      <td>0.395</td>\n",
       "      <td>14</td>\n",
       "      <td>19</td>\n",
       "      <td>0.737</td>\n",
       "      <td>11</td>\n",
       "      <td>31</td>\n",
       "      <td>42</td>\n",
       "      <td>22</td>\n",
       "      <td>8</td>\n",
       "      <td>6</td>\n",
       "      <td>15</td>\n",
       "      <td>17</td>\n",
       "      <td>-10.0</td>\n",
       "      <td>107.0</td>\n",
       "    </tr>\n",
       "    <tr>\n",
       "      <th>3</th>\n",
       "      <td>42021</td>\n",
       "      <td>1610612738</td>\n",
       "      <td>BOS</td>\n",
       "      <td>Boston Celtics</td>\n",
       "      <td>0042100403</td>\n",
       "      <td>2022-06-08</td>\n",
       "      <td>BOS vs. GSW</td>\n",
       "      <td>W</td>\n",
       "      <td>240</td>\n",
       "      <td>116</td>\n",
       "      <td>43</td>\n",
       "      <td>89</td>\n",
       "      <td>0.483</td>\n",
       "      <td>13</td>\n",
       "      <td>35</td>\n",
       "      <td>0.371</td>\n",
       "      <td>17</td>\n",
       "      <td>24</td>\n",
       "      <td>0.708</td>\n",
       "      <td>15</td>\n",
       "      <td>32</td>\n",
       "      <td>47</td>\n",
       "      <td>28</td>\n",
       "      <td>7</td>\n",
       "      <td>7</td>\n",
       "      <td>12</td>\n",
       "      <td>17</td>\n",
       "      <td>16.0</td>\n",
       "      <td>100.0</td>\n",
       "    </tr>\n",
       "    <tr>\n",
       "      <th>4</th>\n",
       "      <td>42021</td>\n",
       "      <td>1610612738</td>\n",
       "      <td>BOS</td>\n",
       "      <td>Boston Celtics</td>\n",
       "      <td>0042100402</td>\n",
       "      <td>2022-06-05</td>\n",
       "      <td>BOS @ GSW</td>\n",
       "      <td>L</td>\n",
       "      <td>242</td>\n",
       "      <td>88</td>\n",
       "      <td>30</td>\n",
       "      <td>80</td>\n",
       "      <td>0.375</td>\n",
       "      <td>15</td>\n",
       "      <td>37</td>\n",
       "      <td>0.405</td>\n",
       "      <td>13</td>\n",
       "      <td>17</td>\n",
       "      <td>0.765</td>\n",
       "      <td>6</td>\n",
       "      <td>37</td>\n",
       "      <td>43</td>\n",
       "      <td>24</td>\n",
       "      <td>5</td>\n",
       "      <td>7</td>\n",
       "      <td>18</td>\n",
       "      <td>18</td>\n",
       "      <td>-19.0</td>\n",
       "      <td>107.0</td>\n",
       "    </tr>\n",
       "  </tbody>\n",
       "</table>\n",
       "</div>"
      ],
      "text/plain": [
       "  SEASON_ID     TEAM_ID TEAM_ABBREVIATION       TEAM_NAME     GAME_ID  \\\n",
       "0     42021  1610612738               BOS  Boston Celtics  0042100406   \n",
       "1     42021  1610612738               BOS  Boston Celtics  0042100405   \n",
       "2     42021  1610612738               BOS  Boston Celtics  0042100404   \n",
       "3     42021  1610612738               BOS  Boston Celtics  0042100403   \n",
       "4     42021  1610612738               BOS  Boston Celtics  0042100402   \n",
       "\n",
       "    GAME_DATE      MATCHUP WL  MIN  PTS  FGM  FGA  FG_PCT  FG3M  FG3A  \\\n",
       "0  2022-06-16  BOS vs. GSW  L  239   90   34   80   0.425    11    28   \n",
       "1  2022-06-13    BOS @ GSW  L  238   94   31   75   0.413    11    32   \n",
       "2  2022-06-10  BOS vs. GSW  L  241   97   34   85   0.400    15    38   \n",
       "3  2022-06-08  BOS vs. GSW  W  240  116   43   89   0.483    13    35   \n",
       "4  2022-06-05    BOS @ GSW  L  242   88   30   80   0.375    15    37   \n",
       "\n",
       "   FG3_PCT  FTM  FTA  FT_PCT  OREB  DREB  REB  AST  STL  BLK  TOV  PF  \\\n",
       "0    0.393   11   12   0.917    11    30   41   27    8    8   22  16   \n",
       "1    0.344   21   31   0.677     8    39   47   18    2    2   18  16   \n",
       "2    0.395   14   19   0.737    11    31   42   22    8    6   15  17   \n",
       "3    0.371   17   24   0.708    15    32   47   28    7    7   12  17   \n",
       "4    0.405   13   17   0.765     6    37   43   24    5    7   18  18   \n",
       "\n",
       "   PLUS_MINUS  OPP_PTS  \n",
       "0       -13.0    103.0  \n",
       "1       -10.0    104.0  \n",
       "2       -10.0    107.0  \n",
       "3        16.0    100.0  \n",
       "4       -19.0    107.0  "
      ]
     },
     "execution_count": 236,
     "metadata": {},
     "output_type": "execute_result"
    }
   ],
   "source": [
    "Celtics_games = leaguegamefinder.LeagueGameFinder(team_id_nullable='1610612738').get_data_frames()[0]\n",
    "Celtics_games = pd.DataFrame(Celtics_games)\n",
    "Celtics_games['OPP_PTS'] = Celtics_games['PTS'] - Celtics_games['PLUS_MINUS']\n",
    "Celtics_games.head(5)"
   ]
  },
  {
   "cell_type": "code",
   "execution_count": 237,
   "id": "5300c2a3",
   "metadata": {},
   "outputs": [
    {
     "data": {
      "text/plain": [
       "(3690, 29)"
      ]
     },
     "execution_count": 237,
     "metadata": {},
     "output_type": "execute_result"
    }
   ],
   "source": [
    "Celtics_games.shape"
   ]
  },
  {
   "cell_type": "code",
   "execution_count": 238,
   "id": "ca4c9926",
   "metadata": {},
   "outputs": [
    {
     "data": {
      "text/plain": [
       "(110, 29)"
      ]
     },
     "execution_count": 238,
     "metadata": {},
     "output_type": "execute_result"
    }
   ],
   "source": [
    "# filter data to only include data for 2021-2022 NBA Season\n",
    "Celtics_2122_games = Celtics_games[Celtics_games['GAME_DATE'] > '2021-09-01']\n",
    "Celtics_2122_games.shape"
   ]
  },
  {
   "cell_type": "markdown",
   "id": "c6477dfb",
   "metadata": {},
   "source": [
    "### Load in Warriors games and results from nba_api"
   ]
  },
  {
   "cell_type": "code",
   "execution_count": 239,
   "id": "e394b271",
   "metadata": {},
   "outputs": [
    {
     "data": {
      "text/html": [
       "<div>\n",
       "<style scoped>\n",
       "    .dataframe tbody tr th:only-of-type {\n",
       "        vertical-align: middle;\n",
       "    }\n",
       "\n",
       "    .dataframe tbody tr th {\n",
       "        vertical-align: top;\n",
       "    }\n",
       "\n",
       "    .dataframe thead th {\n",
       "        text-align: right;\n",
       "    }\n",
       "</style>\n",
       "<table border=\"1\" class=\"dataframe\">\n",
       "  <thead>\n",
       "    <tr style=\"text-align: right;\">\n",
       "      <th></th>\n",
       "      <th>SEASON_ID</th>\n",
       "      <th>TEAM_ID</th>\n",
       "      <th>TEAM_ABBREVIATION</th>\n",
       "      <th>TEAM_NAME</th>\n",
       "      <th>GAME_ID</th>\n",
       "      <th>GAME_DATE</th>\n",
       "      <th>MATCHUP</th>\n",
       "      <th>WL</th>\n",
       "      <th>MIN</th>\n",
       "      <th>PTS</th>\n",
       "      <th>FGM</th>\n",
       "      <th>FGA</th>\n",
       "      <th>FG_PCT</th>\n",
       "      <th>FG3M</th>\n",
       "      <th>FG3A</th>\n",
       "      <th>FG3_PCT</th>\n",
       "      <th>FTM</th>\n",
       "      <th>FTA</th>\n",
       "      <th>FT_PCT</th>\n",
       "      <th>OREB</th>\n",
       "      <th>DREB</th>\n",
       "      <th>REB</th>\n",
       "      <th>AST</th>\n",
       "      <th>STL</th>\n",
       "      <th>BLK</th>\n",
       "      <th>TOV</th>\n",
       "      <th>PF</th>\n",
       "      <th>PLUS_MINUS</th>\n",
       "      <th>OPP_PTS</th>\n",
       "    </tr>\n",
       "  </thead>\n",
       "  <tbody>\n",
       "    <tr>\n",
       "      <th>0</th>\n",
       "      <td>42021</td>\n",
       "      <td>1610612744</td>\n",
       "      <td>GSW</td>\n",
       "      <td>Golden State Warriors</td>\n",
       "      <td>0042100406</td>\n",
       "      <td>2022-06-16</td>\n",
       "      <td>GSW @ BOS</td>\n",
       "      <td>W</td>\n",
       "      <td>241</td>\n",
       "      <td>103</td>\n",
       "      <td>38</td>\n",
       "      <td>92</td>\n",
       "      <td>0.413</td>\n",
       "      <td>19</td>\n",
       "      <td>46.0</td>\n",
       "      <td>0.413</td>\n",
       "      <td>8</td>\n",
       "      <td>8</td>\n",
       "      <td>1.000</td>\n",
       "      <td>15.0</td>\n",
       "      <td>29.0</td>\n",
       "      <td>44.0</td>\n",
       "      <td>27</td>\n",
       "      <td>13</td>\n",
       "      <td>7</td>\n",
       "      <td>15</td>\n",
       "      <td>20</td>\n",
       "      <td>13.0</td>\n",
       "      <td>90.0</td>\n",
       "    </tr>\n",
       "    <tr>\n",
       "      <th>1</th>\n",
       "      <td>42021</td>\n",
       "      <td>1610612744</td>\n",
       "      <td>GSW</td>\n",
       "      <td>Golden State Warriors</td>\n",
       "      <td>0042100405</td>\n",
       "      <td>2022-06-13</td>\n",
       "      <td>GSW vs. BOS</td>\n",
       "      <td>W</td>\n",
       "      <td>240</td>\n",
       "      <td>104</td>\n",
       "      <td>41</td>\n",
       "      <td>88</td>\n",
       "      <td>0.466</td>\n",
       "      <td>9</td>\n",
       "      <td>40.0</td>\n",
       "      <td>0.225</td>\n",
       "      <td>13</td>\n",
       "      <td>15</td>\n",
       "      <td>0.867</td>\n",
       "      <td>4.0</td>\n",
       "      <td>35.0</td>\n",
       "      <td>39.0</td>\n",
       "      <td>23</td>\n",
       "      <td>9</td>\n",
       "      <td>2</td>\n",
       "      <td>6</td>\n",
       "      <td>28</td>\n",
       "      <td>10.0</td>\n",
       "      <td>94.0</td>\n",
       "    </tr>\n",
       "    <tr>\n",
       "      <th>2</th>\n",
       "      <td>42021</td>\n",
       "      <td>1610612744</td>\n",
       "      <td>GSW</td>\n",
       "      <td>Golden State Warriors</td>\n",
       "      <td>0042100404</td>\n",
       "      <td>2022-06-10</td>\n",
       "      <td>GSW @ BOS</td>\n",
       "      <td>W</td>\n",
       "      <td>241</td>\n",
       "      <td>107</td>\n",
       "      <td>40</td>\n",
       "      <td>91</td>\n",
       "      <td>0.440</td>\n",
       "      <td>15</td>\n",
       "      <td>43.0</td>\n",
       "      <td>0.349</td>\n",
       "      <td>12</td>\n",
       "      <td>15</td>\n",
       "      <td>0.800</td>\n",
       "      <td>16.0</td>\n",
       "      <td>39.0</td>\n",
       "      <td>55.0</td>\n",
       "      <td>20</td>\n",
       "      <td>10</td>\n",
       "      <td>5</td>\n",
       "      <td>16</td>\n",
       "      <td>21</td>\n",
       "      <td>10.0</td>\n",
       "      <td>97.0</td>\n",
       "    </tr>\n",
       "    <tr>\n",
       "      <th>3</th>\n",
       "      <td>42021</td>\n",
       "      <td>1610612744</td>\n",
       "      <td>GSW</td>\n",
       "      <td>Golden State Warriors</td>\n",
       "      <td>0042100403</td>\n",
       "      <td>2022-06-08</td>\n",
       "      <td>GSW @ BOS</td>\n",
       "      <td>L</td>\n",
       "      <td>237</td>\n",
       "      <td>100</td>\n",
       "      <td>36</td>\n",
       "      <td>78</td>\n",
       "      <td>0.462</td>\n",
       "      <td>15</td>\n",
       "      <td>40.0</td>\n",
       "      <td>0.375</td>\n",
       "      <td>13</td>\n",
       "      <td>15</td>\n",
       "      <td>0.867</td>\n",
       "      <td>6.0</td>\n",
       "      <td>25.0</td>\n",
       "      <td>31.0</td>\n",
       "      <td>22</td>\n",
       "      <td>7</td>\n",
       "      <td>5</td>\n",
       "      <td>16</td>\n",
       "      <td>23</td>\n",
       "      <td>-16.0</td>\n",
       "      <td>116.0</td>\n",
       "    </tr>\n",
       "    <tr>\n",
       "      <th>4</th>\n",
       "      <td>42021</td>\n",
       "      <td>1610612744</td>\n",
       "      <td>GSW</td>\n",
       "      <td>Golden State Warriors</td>\n",
       "      <td>0042100402</td>\n",
       "      <td>2022-06-05</td>\n",
       "      <td>GSW vs. BOS</td>\n",
       "      <td>W</td>\n",
       "      <td>241</td>\n",
       "      <td>107</td>\n",
       "      <td>39</td>\n",
       "      <td>86</td>\n",
       "      <td>0.453</td>\n",
       "      <td>15</td>\n",
       "      <td>37.0</td>\n",
       "      <td>0.405</td>\n",
       "      <td>14</td>\n",
       "      <td>20</td>\n",
       "      <td>0.700</td>\n",
       "      <td>6.0</td>\n",
       "      <td>36.0</td>\n",
       "      <td>42.0</td>\n",
       "      <td>25</td>\n",
       "      <td>15</td>\n",
       "      <td>2</td>\n",
       "      <td>12</td>\n",
       "      <td>17</td>\n",
       "      <td>19.0</td>\n",
       "      <td>88.0</td>\n",
       "    </tr>\n",
       "  </tbody>\n",
       "</table>\n",
       "</div>"
      ],
      "text/plain": [
       "  SEASON_ID     TEAM_ID TEAM_ABBREVIATION              TEAM_NAME     GAME_ID  \\\n",
       "0     42021  1610612744               GSW  Golden State Warriors  0042100406   \n",
       "1     42021  1610612744               GSW  Golden State Warriors  0042100405   \n",
       "2     42021  1610612744               GSW  Golden State Warriors  0042100404   \n",
       "3     42021  1610612744               GSW  Golden State Warriors  0042100403   \n",
       "4     42021  1610612744               GSW  Golden State Warriors  0042100402   \n",
       "\n",
       "    GAME_DATE      MATCHUP WL  MIN  PTS  FGM  FGA  FG_PCT  FG3M  FG3A  \\\n",
       "0  2022-06-16    GSW @ BOS  W  241  103   38   92   0.413    19  46.0   \n",
       "1  2022-06-13  GSW vs. BOS  W  240  104   41   88   0.466     9  40.0   \n",
       "2  2022-06-10    GSW @ BOS  W  241  107   40   91   0.440    15  43.0   \n",
       "3  2022-06-08    GSW @ BOS  L  237  100   36   78   0.462    15  40.0   \n",
       "4  2022-06-05  GSW vs. BOS  W  241  107   39   86   0.453    15  37.0   \n",
       "\n",
       "   FG3_PCT  FTM  FTA  FT_PCT  OREB  DREB   REB  AST  STL  BLK  TOV  PF  \\\n",
       "0    0.413    8    8   1.000  15.0  29.0  44.0   27   13    7   15  20   \n",
       "1    0.225   13   15   0.867   4.0  35.0  39.0   23    9    2    6  28   \n",
       "2    0.349   12   15   0.800  16.0  39.0  55.0   20   10    5   16  21   \n",
       "3    0.375   13   15   0.867   6.0  25.0  31.0   22    7    5   16  23   \n",
       "4    0.405   14   20   0.700   6.0  36.0  42.0   25   15    2   12  17   \n",
       "\n",
       "   PLUS_MINUS  OPP_PTS  \n",
       "0        13.0     90.0  \n",
       "1        10.0     94.0  \n",
       "2        10.0     97.0  \n",
       "3       -16.0    116.0  \n",
       "4        19.0     88.0  "
      ]
     },
     "execution_count": 239,
     "metadata": {},
     "output_type": "execute_result"
    }
   ],
   "source": [
    "Warriors_games = leaguegamefinder.LeagueGameFinder(team_id_nullable='1610612744').get_data_frames()[0]\n",
    "Warriors_games = pd.DataFrame(Warriors_games)\n",
    "Warriors_games['OPP_PTS'] = Warriors_games['PTS'] - Warriors_games['PLUS_MINUS']\n",
    "Warriors_games.head(5)"
   ]
  },
  {
   "cell_type": "code",
   "execution_count": 240,
   "id": "38647258",
   "metadata": {},
   "outputs": [
    {
     "data": {
      "text/plain": [
       "(3501, 29)"
      ]
     },
     "execution_count": 240,
     "metadata": {},
     "output_type": "execute_result"
    }
   ],
   "source": [
    "Warriors_games.shape"
   ]
  },
  {
   "cell_type": "code",
   "execution_count": 241,
   "id": "80a639a0",
   "metadata": {},
   "outputs": [
    {
     "data": {
      "text/plain": [
       "(109, 29)"
      ]
     },
     "execution_count": 241,
     "metadata": {},
     "output_type": "execute_result"
    }
   ],
   "source": [
    "# filter data to only include data for 2021-2022 NBA Season\n",
    "Warriors_2122_games = Warriors_games[Warriors_games['GAME_DATE'] > '2021-09-01']\n",
    "Warriors_2122_games.shape"
   ]
  },
  {
   "cell_type": "markdown",
   "id": "dd27e199",
   "metadata": {},
   "source": [
    "### Points Scored for each time"
   ]
  },
  {
   "cell_type": "code",
   "execution_count": 242,
   "id": "0e61becd",
   "metadata": {},
   "outputs": [
    {
     "data": {
      "text/plain": [
       "<AxesSubplot:xlabel='Points Scored', ylabel='Number of Games'>"
      ]
     },
     "execution_count": 242,
     "metadata": {},
     "output_type": "execute_result"
    },
    {
     "data": {
      "image/png": "[encoded data removed]",
      "text/plain": [
       "<Figure size 720x576 with 1 Axes>"
      ]
     },
     "metadata": {
      "needs_background": "light"
     },
     "output_type": "display_data"
    }
   ],
   "source": [
    "plt.figure(figsize=(10,8))\n",
    "plt.xlabel('Points Scored')\n",
    "plt.ylabel('Number of Games')\n",
    "Celtics_2122_games.PTS.hist(bins=30, color='limegreen')\n",
    "Warriors_2122_games.PTS.hist(bins=30, color='dodgerblue')"
   ]
  },
  {
   "cell_type": "code",
   "execution_count": 243,
   "id": "a1fadd38",
   "metadata": {},
   "outputs": [
    {
     "data": {
      "image/png": "[encoded data removed]",
      "text/plain": [
       "<Figure size 720x576 with 1 Axes>"
      ]
     },
     "metadata": {
      "needs_background": "light"
     },
     "output_type": "display_data"
    }
   ],
   "source": [
    "plt.figure(figsize=(10,8))\n",
    "plt.xlabel('Points Scored')\n",
    "axCeltics = Celtics_2122_games.PTS.plot.kde(color='limegreen')\n",
    "axWarriors = Warriors_2122_games.PTS.plot.kde(color='dodgerblue')"
   ]
  },
  {
   "cell_type": "markdown",
   "id": "1d01e240",
   "metadata": {},
   "source": [
    "### Points allowed for each team"
   ]
  },
  {
   "cell_type": "code",
   "execution_count": 244,
   "id": "32c2c896",
   "metadata": {},
   "outputs": [
    {
     "data": {
      "text/plain": [
       "<AxesSubplot:xlabel='Points Allowed', ylabel='Number of Games'>"
      ]
     },
     "execution_count": 244,
     "metadata": {},
     "output_type": "execute_result"
    },
    {
     "data": {
      "image/png": "[encoded data removed]",
      "text/plain": [
       "<Figure size 720x576 with 1 Axes>"
      ]
     },
     "metadata": {
      "needs_background": "light"
     },
     "output_type": "display_data"
    }
   ],
   "source": [
    "plt.figure(figsize=(10,8))\n",
    "plt.xlabel('Points Allowed')\n",
    "plt.ylabel('Number of Games')\n",
    "Celtics_2122_games.OPP_PTS.hist(bins=30, color='limegreen')\n",
    "Warriors_2122_games.OPP_PTS.hist(bins=30, color='dodgerblue')"
   ]
  },
  {
   "cell_type": "code",
   "execution_count": 245,
   "id": "0f412099",
   "metadata": {},
   "outputs": [
    {
     "data": {
      "image/png": "[encoded data removed]",
      "text/plain": [
       "<Figure size 720x576 with 1 Axes>"
      ]
     },
     "metadata": {
      "needs_background": "light"
     },
     "output_type": "display_data"
    }
   ],
   "source": [
    "plt.figure(figsize=(10,8))\n",
    "plt.xlabel('Points Allowed')\n",
    "axCeltics = Celtics_2122_games.OPP_PTS.plot.kde(color='limegreen')\n",
    "axWarriors = Warriors_2122_games.OPP_PTS.plot.kde(color='dodgerblue')"
   ]
  },
  {
   "cell_type": "markdown",
   "id": "37888342",
   "metadata": {},
   "source": [
    "### Mean and Standard Deviation for points scored and allowed for each team"
   ]
  },
  {
   "cell_type": "code",
   "execution_count": 246,
   "id": "80975954",
   "metadata": {},
   "outputs": [
    {
     "name": "stdout",
     "output_type": "stream",
     "text": [
      "Warriors Points Scored Mean:  111.495\n",
      "Warriors Points Scored SD:  11.452\n",
      "Celtics Points Scored Mean:  110.091\n",
      "Celtics Points Scored SD:  13.453\n",
      "\n",
      "Warriors Points Allowed Mean:  105.835\n",
      "Warriors Points Allowed SD:  11.322\n",
      "Celtics Points Allowed Mean:  104.055\n",
      "Celtics Points Allowed SD:  13.453\n"
     ]
    }
   ],
   "source": [
    "WarriorsMeanPoints = Warriors_2122_games.PTS.mean()\n",
    "CelticsMeanPoints = Celtics_2122_games.PTS.mean()\n",
    "WarriorsSdPoints = Warriors_2122_games.PTS.std()\n",
    "CelticsSdPoints = Celtics_2122_games.PTS.std()\n",
    "\n",
    "WarriorsOppMeanPoints = Warriors_2122_games.OPP_PTS.mean()\n",
    "CelticsOppMeanPoints = Celtics_2122_games.OPP_PTS.mean()\n",
    "WarriorsOppSdPoints = Warriors_2122_games.OPP_PTS.std()\n",
    "CelticsOppSdPoints = Celtics_2122_games.OPP_PTS.std()\n",
    "\n",
    "print(\"Warriors Points Scored Mean: \", '%.3f'% WarriorsMeanPoints)\n",
    "print(\"Warriors Points Scored SD: \", '%.3f'% WarriorsSdPoints)\n",
    "print(\"Celtics Points Scored Mean: \", '%.3f'% CelticsMeanPoints)\n",
    "print(\"Celtics Points Scored SD: \", '%.3f'% CelticsSdPoints)\n",
    "print()\n",
    "print(\"Warriors Points Allowed Mean: \", '%.3f'% WarriorsOppMeanPoints)\n",
    "print(\"Warriors Points Allowed SD: \", '%.3f'% WarriorsOppSdPoints)\n",
    "print(\"Celtics Points Allowed Mean: \", '%.3f'% CelticsOppMeanPoints)\n",
    "print(\"Celtics Points Allowed SD: \", '%.3f'% CelticsSdPoints)"
   ]
  },
  {
   "cell_type": "markdown",
   "id": "3caedfa3",
   "metadata": {},
   "source": [
    "### Define Function that simulates a game between Warriors and Celtics"
   ]
  },
  {
   "cell_type": "code",
   "execution_count": 247,
   "id": "fa2784c9",
   "metadata": {},
   "outputs": [],
   "source": [
    "def gameSimulation():\n",
    "    \n",
    "    WarScore = (rnd.gauss(WarriorsMeanPoints,WarriorsSdPoints)+ rnd.gauss(CelticsOppMeanPoints,CelticsOppSdPoints))/2\n",
    "    CelScore = (rnd.gauss(CelticsMeanPoints,CelticsSdPoints)+ rnd.gauss(WarriorsOppMeanPoints,WarriorsOppSdPoints))/2\n",
    "    \n",
    "    if int(round(WarScore)) > int(round(CelScore)):\n",
    "        return 1\n",
    "    elif int(round(WarScore)) < int(round(CelScore)):\n",
    "        return -1\n",
    "    else: return 0"
   ]
  },
  {
   "cell_type": "markdown",
   "id": "7011cff5",
   "metadata": {},
   "source": [
    "### Define function for how many simulations to run and return winning percentage for each team"
   ]
  },
  {
   "cell_type": "code",
   "execution_count": 248,
   "id": "c3d68bef",
   "metadata": {},
   "outputs": [],
   "source": [
    "# n ~ number of games to simulate\n",
    "\n",
    "def gameSimulations(n):\n",
    "    gameResults = []\n",
    "    WarWins = 0\n",
    "    CelWins = 0\n",
    "    Ties = 0\n",
    "    for i in range(n):\n",
    "        gm = gameSimulation()\n",
    "        gameResults.append(gm)\n",
    "        if gm == 1:\n",
    "            WarWins += 1\n",
    "        elif gm == -1:\n",
    "            CelWins += 1\n",
    "        else: Ties += 1\n",
    "            \n",
    "    WarWinPer = WarWins/(WarWins+CelWins+Ties)*100\n",
    "    CelWinPer = CelWins/(WarWins+CelWins+Ties)*100\n",
    "    TiePer = Ties/(WarWins+CelWins+Ties)*100\n",
    "    \n",
    "    print('Warriors win ',WarWinPer,'%')\n",
    "    print('Celtics win ',CelWinPer,'%')\n",
    "    print('Tie',TiePer,'%')\n",
    "    \n",
    "    #return gameResults"
   ]
  },
  {
   "cell_type": "code",
   "execution_count": 253,
   "id": "3bde8840",
   "metadata": {},
   "outputs": [
    {
     "name": "stdout",
     "output_type": "stream",
     "text": [
      "Warriors win  42.857142857142854 %\n",
      "Celtics win  57.14285714285714 %\n",
      "Tie 0.0 %\n"
     ]
    }
   ],
   "source": [
    "gameSimulations(7)"
   ]
  },
  {
   "cell_type": "code",
   "execution_count": 254,
   "id": "669a5bfc",
   "metadata": {},
   "outputs": [
    {
     "name": "stdout",
     "output_type": "stream",
     "text": [
      "Warriors win  60.0 %\n",
      "Celtics win  30.0 %\n",
      "Tie 10.0 %\n"
     ]
    }
   ],
   "source": [
    "gameSimulations(10)"
   ]
  },
  {
   "cell_type": "code",
   "execution_count": 251,
   "id": "5f454348",
   "metadata": {},
   "outputs": [
    {
     "name": "stdout",
     "output_type": "stream",
     "text": [
      "Warriors win  43.0 %\n",
      "Celtics win  53.0 %\n",
      "Tie 4.0 %\n"
     ]
    }
   ],
   "source": [
    "gameSimulations(100)"
   ]
  },
  {
   "cell_type": "code",
   "execution_count": 252,
   "id": "ff612ca6",
   "metadata": {},
   "outputs": [
    {
     "name": "stdout",
     "output_type": "stream",
     "text": [
      "Warriors win  47.4 %\n",
      "Celtics win  49.9 %\n",
      "Tie 2.7 %\n"
     ]
    }
   ],
   "source": [
    "gameSimulations(1000)"
   ]
  }
 ],
 "metadata": {
  "kernelspec": {
   "display_name": "Python 3 (ipykernel)",
   "language": "python",
   "name": "python3"
  },
  "language_info": {
   "codemirror_mode": {
    "name": "ipython",
    "version": 3
   },
   "file_extension": ".py",
   "mimetype": "text/x-python",
   "name": "python",
   "nbconvert_exporter": "python",
   "pygments_lexer": "ipython3",
   "version": "3.9.12"
  }
 },
 "nbformat": 4,
 "nbformat_minor": 5
}
